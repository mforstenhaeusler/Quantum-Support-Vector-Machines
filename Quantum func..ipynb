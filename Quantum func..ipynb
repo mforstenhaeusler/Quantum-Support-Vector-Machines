{
 "cells": [
  {
   "cell_type": "code",
   "execution_count": 71,
   "metadata": {},
   "outputs": [
    {
     "name": "stdout",
     "output_type": "stream",
     "text": [
      "The autoreload extension is already loaded. To reload it, use:\n",
      "  %reload_ext autoreload\n"
     ]
    },
    {
     "name": "stderr",
     "output_type": "stream",
     "text": [
      "/Users/Maxi/.virtualenvs/svm_venv/lib/python3.7/site-packages/sympy/core/expr.py:3951: SymPyDeprecationWarning: \n",
      "\n",
      "expr_free_symbols method has been deprecated since SymPy 1.9. See\n",
      "https://github.com/sympy/sympy/issues/21494 for more info.\n",
      "\n",
      "  deprecated_since_version=\"1.9\").warn()\n"
     ]
    },
    {
     "data": {
      "image/png": "[encoded data removed]",
      "text/plain": [
       "<Figure size 1471.05x204.68 with 1 Axes>"
      ]
     },
     "execution_count": 71,
     "metadata": {},
     "output_type": "execute_result"
    }
   ],
   "source": [
    "from qiskit_machine_learning.kernels import QuantumKernel\n",
    "from qiskit.circuit.library import ZZFeatureMap, PauliFeatureMap\n",
    "from qiskit import BasicAer, Aer, execute\n",
    "from qiskit.utils import QuantumInstance\n",
    "import numpy as np\n",
    "%load_ext autoreload\n",
    "\n",
    "%autoreload 2\n",
    "\n",
    "zz_map = ZZFeatureMap(feature_dimension=2, reps=1, entanglement='linear', insert_barriers=True)\n",
    "\n",
    "zz_kernel = QuantumKernel(feature_map=zz_map, quantum_instance=Aer.get_backend('statevector_simulator'))\n",
    "\n",
    "zz_circuit = zz_kernel.construct_circuit(np.array([0.57832, 0.32638]), np.array([0.72834, 0.49216]))\n",
    "zz_circuit.decompose().decompose().decompose().draw(output='mpl')"
   ]
  },
  {
   "cell_type": "code",
   "execution_count": 72,
   "metadata": {},
   "outputs": [
    {
     "name": "stdout",
     "output_type": "stream",
     "text": [
      "     ┌───┐ ░ ┌──────────────┐                                           \n",
      "q_0: ┤ H ├─░─┤ U1(2.0*x[0]) ├──■─────────────────────────────────────■──\n",
      "     ├───┤ ░ ├──────────────┤┌─┴─┐┌───────────────────────────────┐┌─┴─┐\n",
      "q_1: ┤ H ├─░─┤ U1(2.0*x[1]) ├┤ X ├┤ U1(2.0*(π - x[0])*(π - x[1])) ├┤ X ├\n",
      "     └───┘ ░ └──────────────┘└───┘└───────────────────────────────┘└───┘\n"
     ]
    }
   ],
   "source": [
    "print(zz_map)"
   ]
  },
  {
   "cell_type": "code",
   "execution_count": 78,
   "metadata": {},
   "outputs": [],
   "source": [
    "from quantum_svm.quantum.feature_maps import ZZFeatureMap as ZZMap_custom\n",
    "from quantum_svm.quantum.utils import data_map_func"
   ]
  },
  {
   "cell_type": "code",
   "execution_count": 85,
   "metadata": {},
   "outputs": [
    {
     "data": {
      "text/plain": [
       "array([[0.48182407, 0.57820982],\n",
       "       [0.92492468, 0.65250287],\n",
       "       [0.8838522 , 0.95963257],\n",
       "       [0.95895044, 0.49389856],\n",
       "       [0.41969147, 0.2375039 ],\n",
       "       [0.2582456 , 0.40511951],\n",
       "       [0.44107529, 0.73728362],\n",
       "       [0.38927053, 0.90024367],\n",
       "       [0.02330028, 0.71935016],\n",
       "       [0.28475766, 0.15876317],\n",
       "       [0.15137424, 0.66435082],\n",
       "       [0.3375654 , 0.59016662],\n",
       "       [0.30609301, 0.2047183 ],\n",
       "       [0.95940164, 0.68739132],\n",
       "       [0.28730502, 0.01242288],\n",
       "       [0.5400429 , 0.36375563],\n",
       "       [0.94967134, 0.95338382],\n",
       "       [0.12324782, 0.71925172],\n",
       "       [0.37185047, 0.03924397],\n",
       "       [0.62119487, 0.16384481],\n",
       "       [0.51367897, 0.29999807],\n",
       "       [0.20411629, 0.18339024],\n",
       "       [0.24484424, 0.05180573],\n",
       "       [0.13879849, 0.77924103],\n",
       "       [0.68817732, 0.65842247],\n",
       "       [0.91368227, 0.60099664],\n",
       "       [0.40374865, 0.810341  ],\n",
       "       [0.7280731 , 0.68038153],\n",
       "       [0.58659488, 0.94782319],\n",
       "       [0.38464558, 0.7685895 ],\n",
       "       [0.72715793, 0.23860433],\n",
       "       [0.74766418, 0.68218928],\n",
       "       [0.15607267, 0.99404596],\n",
       "       [0.65661034, 0.60788446],\n",
       "       [0.4852579 , 0.77100425],\n",
       "       [0.67740873, 0.74490462],\n",
       "       [0.07560436, 0.48777768],\n",
       "       [0.74208997, 0.59176772],\n",
       "       [0.8682236 , 0.2432064 ],\n",
       "       [0.84807207, 0.23803001],\n",
       "       [0.3352561 , 0.40525426],\n",
       "       [0.58551989, 0.66439834],\n",
       "       [0.0335944 , 0.67265668],\n",
       "       [0.75012038, 0.64198099],\n",
       "       [0.60801543, 0.17933452],\n",
       "       [0.50005522, 0.20586174],\n",
       "       [0.67786374, 0.57063273],\n",
       "       [0.46005601, 0.50181065],\n",
       "       [0.42266573, 0.45913284],\n",
       "       [0.50165905, 0.67534892],\n",
       "       [0.92515552, 0.21397758],\n",
       "       [0.50313213, 0.23450532],\n",
       "       [0.25239554, 0.6418788 ],\n",
       "       [0.65566849, 0.05290349],\n",
       "       [0.4366172 , 0.21801919],\n",
       "       [0.89103383, 0.64920904],\n",
       "       [0.457597  , 0.09284365],\n",
       "       [0.9960017 , 0.04636182],\n",
       "       [0.87556204, 0.03347253],\n",
       "       [0.31278189, 0.98932687],\n",
       "       [0.98018704, 0.73145436],\n",
       "       [0.98490466, 0.94388988],\n",
       "       [0.30698683, 0.36839901],\n",
       "       [0.24595422, 0.1411781 ],\n",
       "       [0.23460337, 0.31365316],\n",
       "       [0.25868513, 0.85550439],\n",
       "       [0.67210347, 0.45614883],\n",
       "       [0.7212828 , 0.15844823],\n",
       "       [0.20353755, 0.89018886],\n",
       "       [0.8349387 , 0.7071477 ],\n",
       "       [0.29190926, 0.64560859],\n",
       "       [0.76685669, 0.96784505],\n",
       "       [0.7287584 , 0.92037647],\n",
       "       [0.26235823, 0.16080408],\n",
       "       [0.70022589, 0.63395861],\n",
       "       [0.09079683, 0.41144528],\n",
       "       [0.20113438, 0.16056015],\n",
       "       [0.00687819, 0.89081935],\n",
       "       [0.75337969, 0.53742635],\n",
       "       [0.96839024, 0.19723066]])"
      ]
     },
     "execution_count": 85,
     "metadata": {},
     "output_type": "execute_result"
    }
   ],
   "source": [
    "X = np.random.rand(80,2)\n",
    "X"
   ]
  },
  {
   "cell_type": "code",
   "execution_count": 93,
   "metadata": {},
   "outputs": [
    {
     "data": {
      "text/plain": [
       "<matplotlib.collections.PathCollection at 0x7ff9b75f8c50>"
      ]
     },
     "execution_count": 93,
     "metadata": {},
     "output_type": "execute_result"
    },
    {
     "data": {
      "image/png": "[encoded data removed]",
      "text/plain": [
       "<Figure size 432x288 with 1 Axes>"
      ]
     },
     "metadata": {
      "needs_background": "light"
     },
     "output_type": "display_data"
    }
   ],
   "source": [
    "import matplotlib.pyplot as plt\n",
    "plt.scatter(X[:,0], X[:,1])"
   ]
  },
  {
   "cell_type": "code",
   "execution_count": 103,
   "metadata": {},
   "outputs": [],
   "source": [
    "from quantum_svm.quantum.kernels import QuantumKernel as QK_custom\n",
    "quantum_params = {\n",
    "    'feature_dimension': 2,\n",
    "    'reps': 2,\n",
    "    'seed': 1024,\n",
    "    'shots': 2**14,   \n",
    "    'provider_backend': None,\n",
    "}\n",
    "\n",
    "zz_map_test = ZZMap_custom(quantum_params['feature_dimension'], quantum_params['reps'], insert_barriers=True)"
   ]
  },
  {
   "cell_type": "code",
   "execution_count": 104,
   "metadata": {},
   "outputs": [
    {
     "name": "stdout",
     "output_type": "stream",
     "text": [
      "<quantum_svm.quantum.feature_maps.ZZFeatureMap object at 0x7ff9b934b510>\n"
     ]
    }
   ],
   "source": [
    "print(zz_map_test)"
   ]
  },
  {
   "cell_type": "code",
   "execution_count": 105,
   "metadata": {},
   "outputs": [
    {
     "data": {
      "image/png": "[encoded data removed]",
      "text/plain": [
       "<Figure size 1591.45x445.48 with 1 Axes>"
      ]
     },
     "execution_count": 105,
     "metadata": {},
     "output_type": "execute_result"
    }
   ],
   "source": [
    "backend = Aer.get_backend('qasm_simulator')\n",
    "zz_kernel = QK_custom(feature_map=zz_map_test, quantum_backend=backend, sim_params=quantum_params)\n",
    "circuits = []\n",
    "for i in range(X.shape[0]):\n",
    "    for j in range(X.shape[0]):\n",
    "        circuits.append(zz_kernel.construct_circuit(X[i], X[j]))\n",
    "        \n",
    "circuits[1].decompose().decompose().draw('mpl')"
   ]
  },
  {
   "cell_type": "code",
   "execution_count": 106,
   "metadata": {},
   "outputs": [
    {
     "data": {
      "text/plain": [
       "array([[1.        , 0.93255615, 0.85809326, ..., 0.27008057, 0.87768555,\n",
       "        0.42590332],\n",
       "       [0.9274292 , 1.        , 0.90179443, ..., 0.13024902, 0.88049316,\n",
       "        0.48718262],\n",
       "       [0.8571167 , 0.90258789, 1.        , ..., 0.16558838, 0.77386475,\n",
       "        0.54370117],\n",
       "       ...,\n",
       "       [0.27532959, 0.12969971, 0.16052246, ..., 1.        , 0.081604  ,\n",
       "        0.12121582],\n",
       "       [0.87982178, 0.87896729, 0.77557373, ..., 0.08660889, 1.        ,\n",
       "        0.70257568],\n",
       "       [0.42828369, 0.49145508, 0.54730225, ..., 0.11468506, 0.70196533,\n",
       "        1.        ]])"
      ]
     },
     "execution_count": 106,
     "metadata": {},
     "output_type": "execute_result"
    }
   ],
   "source": [
    "QK_custom = zz_kernel.evaluate(X)\n",
    "QK_custom"
   ]
  },
  {
   "cell_type": "code",
   "execution_count": 107,
   "metadata": {},
   "outputs": [
    {
     "data": {
      "text/plain": [
       "array([[1.00979171, 0.93041821, 0.86032755, ..., 0.27227738, 0.87439221,\n",
       "        0.42585636],\n",
       "       [0.93041821, 1.00857653, 0.90229823, ..., 0.13596251, 0.88326681,\n",
       "        0.48744527],\n",
       "       [0.86032755, 0.90229823, 1.00841834, ..., 0.15682961, 0.77642682,\n",
       "        0.54238065],\n",
       "       ...,\n",
       "       [0.27227738, 0.13596251, 0.15682961, ..., 1.00413746, 0.08237879,\n",
       "        0.11790985],\n",
       "       [0.87439221, 0.88326681, 0.77642682, ..., 0.08237879, 1.0076065 ,\n",
       "        0.69506052],\n",
       "       [0.42585636, 0.48744527, 0.54238065, ..., 0.11790985, 0.69506052,\n",
       "        1.00658056]])"
      ]
     },
     "execution_count": 107,
     "metadata": {},
     "output_type": "execute_result"
    }
   ],
   "source": [
    "from quantum_svm.quantum.quantum_kernels import quantum_kernel\n",
    "\n",
    "QK = quantum_kernel(quantum_params)\n",
    "\n",
    "QK_X = QK(X)\n",
    "QK_X"
   ]
  },
  {
   "cell_type": "code",
   "execution_count": 108,
   "metadata": {},
   "outputs": [
    {
     "data": {
      "image/png": "[encoded data removed]",
      "text/plain": [
       "<Figure size 864x720 with 2 Axes>"
      ]
     },
     "metadata": {
      "needs_background": "light"
     },
     "output_type": "display_data"
    }
   ],
   "source": [
    "fig, ax = plt.subplots(1, 2, figsize=(12, 10))\n",
    "ax[0].imshow(np.asmatrix(QK_custom),\n",
    "              interpolation='nearest', origin='upper', cmap='Purples')\n",
    "ax[0].set_title(\"Quantum Kernel Custom\")\n",
    "ax[1].imshow(np.asmatrix(QK_X),\n",
    "              interpolation='nearest', origin='upper', cmap='Blues')\n",
    "ax[1].set_title(\"Quantum Kernel Qiskit\")\n",
    "plt.show()"
   ]
  },
  {
   "cell_type": "code",
   "execution_count": 42,
   "metadata": {},
   "outputs": [],
   "source": [
    "from qiskit.utils import QuantumInstance\n",
    "shots = 8192\n",
    "seed = 1024\n",
    "q_instance = QuantumInstance(Aer.get_backend('statevector_simulator'), shots=shots,\n",
    "                                    seed_simulator=seed, seed_transpiler=seed)"
   ]
  },
  {
   "cell_type": "code",
   "execution_count": 43,
   "metadata": {},
   "outputs": [],
   "source": [
    "res = execute(circuits[1], backend=Aer.get_backend('statevector_simulator'), shots=shots,\n",
    "                                                  seed_simulator=seed, seed_transpiler=seed)\n"
   ]
  },
  {
   "cell_type": "code",
   "execution_count": 44,
   "metadata": {},
   "outputs": [],
   "source": [
    "st_vec = []\n",
    "for i in range(1):\n",
    "    st_vec.append(res.result().get_statevector(i))"
   ]
  },
  {
   "cell_type": "code",
   "execution_count": 45,
   "metadata": {},
   "outputs": [
    {
     "data": {
      "text/plain": [
       "[array([ 0.        +0.j        ,  0.        +0.j        ,\n",
       "        -0.        +0.j        ,  0.41709801-0.90886151j])]"
      ]
     },
     "execution_count": 45,
     "metadata": {},
     "output_type": "execute_result"
    }
   ],
   "source": [
    "st_vec"
   ]
  },
  {
   "cell_type": "code",
   "execution_count": 46,
   "metadata": {},
   "outputs": [
    {
     "data": {
      "text/plain": [
       "{'01': 122, '00': 123, '10': 1937, '11': 6010}"
      ]
     },
     "execution_count": 46,
     "metadata": {},
     "output_type": "execute_result"
    }
   ],
   "source": [
    "res = execute(circuits[2], backend=Aer.get_backend('qasm_simulator'), shots=shots,\n",
    "                                                  seed_simulator=seed, seed_transpiler=seed)\n",
    "res_2 = res.result().get_counts()\n",
    "res_2"
   ]
  },
  {
   "cell_type": "code",
   "execution_count": 47,
   "metadata": {},
   "outputs": [
    {
     "data": {
      "text/plain": [
       "0.0150146484375"
      ]
     },
     "execution_count": 47,
     "metadata": {},
     "output_type": "execute_result"
    }
   ],
   "source": [
    "m_bias = \"0\"*2\n",
    "res_2.get(m_bias, 0) / sum(res_2.values())"
   ]
  },
  {
   "cell_type": "code",
   "execution_count": 49,
   "metadata": {},
   "outputs": [],
   "source": [
    "res = execute(circuits, backend=Aer.get_backend('qasm_simulator'), shots=shots,\n",
    "                                                  seed_simulator=seed, seed_transpiler=seed)\n",
    "k_values = []\n",
    "m_bias = \"0\"*2\n",
    "\n",
    "for i in range(len(circuits)):\n",
    "    res_2 = res.result().get_counts(i)\n",
    "    k_values.append(res_2.get(m_bias, 0) / sum(res_2.values()))\n",
    "\n",
    "    "
   ]
  },
  {
   "cell_type": "code",
   "execution_count": 50,
   "metadata": {},
   "outputs": [
    {
     "data": {
      "text/plain": [
       "[1.0,\n",
       " 0.6673583984375,\n",
       " 0.0152587890625,\n",
       " 0.666748046875,\n",
       " 1.0,\n",
       " 0.091552734375,\n",
       " 0.012451171875,\n",
       " 0.0926513671875,\n",
       " 1.0]"
      ]
     },
     "execution_count": 50,
     "metadata": {},
     "output_type": "execute_result"
    }
   ],
   "source": [
    "k_values"
   ]
  },
  {
   "cell_type": "code",
   "execution_count": 51,
   "metadata": {},
   "outputs": [
    {
     "data": {
      "text/plain": [
       "array([[1.        , 0.6673584 , 0.01525879],\n",
       "       [0.66674805, 1.        , 0.09155273],\n",
       "       [0.01245117, 0.09265137, 1.        ]])"
      ]
     },
     "execution_count": 51,
     "metadata": {},
     "output_type": "execute_result"
    }
   ],
   "source": [
    "np.array(k_values).reshape(3,3)"
   ]
  },
  {
   "cell_type": "code",
   "execution_count": 86,
   "metadata": {},
   "outputs": [],
   "source": [
    "#rows = []\n",
    "#start = 0    \n",
    "#end = 10\n",
    "#for i in range(2):\n",
    "#    rows.append(st_vec[start:end])\n",
    "#    start = end\n",
    "#    end += 2"
   ]
  },
  {
   "cell_type": "code",
   "execution_count": 87,
   "metadata": {},
   "outputs": [],
   "source": [
    "#K_st_vec = np.array(rows)\n",
    "#K_st_vec.shape"
   ]
  },
  {
   "cell_type": "code",
   "execution_count": 88,
   "metadata": {},
   "outputs": [
    {
     "name": "stdout",
     "output_type": "stream",
     "text": [
      "(2, 2)\n"
     ]
    }
   ],
   "source": [
    "qk = np.zeros((K_st_vec.shape[0], K_st_vec.shape[1]))\n",
    "print(qk.shape)\n",
    "for i in range(K_st_vec.shape[0]):\n",
    "    for j in range(K_st_vec.shape[1]):\n",
    "#        qk[i,j] =\n",
    "        a = np.vdot(K_st_vec[i][j], K_st_vec[i][j])\n",
    "        qk[i, j] = np.vdot(a, a).real"
   ]
  },
  {
   "cell_type": "code",
   "execution_count": 89,
   "metadata": {},
   "outputs": [
    {
     "data": {
      "text/plain": [
       "array([[1., 1.],\n",
       "       [1., 1.]])"
      ]
     },
     "execution_count": 89,
     "metadata": {},
     "output_type": "execute_result"
    }
   ],
   "source": [
    "qk"
   ]
  },
  {
   "cell_type": "code",
   "execution_count": 128,
   "metadata": {},
   "outputs": [
    {
     "data": {
      "text/plain": [
       "array([[1.        , 0.00366211, 0.12780762],\n",
       "       [0.00366211, 1.        , 0.78198242],\n",
       "       [0.12780762, 0.78198242, 1.        ]])"
      ]
     },
     "execution_count": 128,
     "metadata": {},
     "output_type": "execute_result"
    }
   ],
   "source": [
    "from quantum_svm.quantum.quantum_kernels import quantum_kernel\n",
    "quantum_params = {\n",
    "    'feature_dimension': 2,\n",
    "    'reps': 1,\n",
    "    'seed': 1024,\n",
    "    'shots': 8192,   \n",
    "    'provider_backend': None,\n",
    "}\n",
    "\n",
    "QK = quantum_kernel(quantum_params)\n",
    "\n",
    "QK_X = QK(X)\n",
    "QK_X"
   ]
  },
  {
   "cell_type": "code",
   "execution_count": null,
   "metadata": {},
   "outputs": [],
   "source": [
    "zz_map.n_qubits"
   ]
  },
  {
   "cell_type": "code",
   "execution_count": null,
   "metadata": {},
   "outputs": [],
   "source": [
    "from qiskit.circuit import Gate"
   ]
  },
  {
   "cell_type": "code",
   "execution_count": null,
   "metadata": {},
   "outputs": [],
   "source": [
    "import qiskit as qk\n",
    "from qiskit import BasicAer, Aer, execute\n",
    "# Creating Qubits\n",
    "q = qk.QuantumRegister(2)\n",
    "# Creating Classical Bits\n",
    "c = qk.ClassicalRegister(2)\n",
    "circuit = qk.QuantumCircuit(q, c)\n",
    "circuit.append(inst.reverse_ops(), [0,1])\n",
    "circuit.decompose().draw('mpl')"
   ]
  },
  {
   "cell_type": "code",
   "execution_count": null,
   "metadata": {},
   "outputs": [],
   "source": [
    "from quantum_svm.quantum.kernels import QuantumKernel as QK_custom \n",
    "\n",
    "zz_map_test = ZZMap_custom(2, 2, insert_barriers=True)\n",
    "data = [np.array([0.57832, 0.32638]), np.array([0.72834, 0.49216])]\n",
    "#data = np.array([0.57832, 0.32638])\n",
    "#zz_kernel = QK_custom(feature_map=zz_map_test, qunatum_instance=)\n",
    "\n",
    "#circuit = zz_kernel.construct_circuit()\n",
    "#circuit.decompose().decompose().draw('mpl')"
   ]
  },
  {
   "cell_type": "code",
   "execution_count": null,
   "metadata": {},
   "outputs": [],
   "source": [
    "##### continue - very close"
   ]
  },
  {
   "cell_type": "code",
   "execution_count": null,
   "metadata": {},
   "outputs": [],
   "source": []
  },
  {
   "cell_type": "code",
   "execution_count": null,
   "metadata": {},
   "outputs": [],
   "source": [
    "import matplotlib.pyplot as plt\n",
    "plt.scatter(X[:,0], X[:,1])"
   ]
  },
  {
   "cell_type": "code",
   "execution_count": null,
   "metadata": {},
   "outputs": [],
   "source": [
    "from quantum_svm.quantum.kernels import QuantumKernel as QK_custom \n",
    "quantum_params = {\n",
    "    'feature_dimension': 2,\n",
    "    'reps': 2,\n",
    "    'seed': 1024,\n",
    "    'shots': 8192,   \n",
    "    'provider_backend': None,\n",
    "}\n",
    "backend = Aer.get_backend('statevector_simulator')\n",
    "zz_kernel = QK_custom(feature_map=zz_map_test, quantum_backend=backend, sim_params=quantum_params)\n",
    "circuits = []\n",
    "for i in range(X.shape[0]):\n",
    "    for j in range(X.shape[0]):\n",
    "        circuits.append(zz_kernel.construct_circuit(X[i], X[j]))\n",
    "        \n",
    "circuits[10].decompose().decompose().draw('mpl')"
   ]
  },
  {
   "cell_type": "code",
   "execution_count": null,
   "metadata": {},
   "outputs": [],
   "source": [
    "statevectors = []\n",
    "#results = self._quantum_instance.execute(circuits, had_transpiled=True)\n",
    "#for j in range(N*N):\n",
    "#    statevectors.append(results.get_statevector(j))\n",
    "job = execute(circuits, backend, shots=quantum_params['shots'], seed_simulator=quantum_params['seed'], see_transpiler=quantum_params['seed'])\n"
   ]
  },
  {
   "cell_type": "code",
   "execution_count": null,
   "metadata": {},
   "outputs": [],
   "source": [
    "for j in range(10*10):\n",
    "    statevectors.append(job.result().get_statevector(j))"
   ]
  },
  {
   "cell_type": "code",
   "execution_count": null,
   "metadata": {},
   "outputs": [],
   "source": [
    "statevectors"
   ]
  },
  {
   "cell_type": "code",
   "execution_count": null,
   "metadata": {},
   "outputs": [],
   "source": [
    "st_vec = zz_kernel.evaluate(X)"
   ]
  },
  {
   "cell_type": "code",
   "execution_count": null,
   "metadata": {},
   "outputs": [],
   "source": [
    "st_vec"
   ]
  },
  {
   "cell_type": "code",
   "execution_count": null,
   "metadata": {},
   "outputs": [],
   "source": [
    "rows = []\n",
    "start = 0    \n",
    "end = 10\n",
    "for i in range(10):\n",
    "    rows.append(st_vec[start:end])\n",
    "    start = end\n",
    "    end += 10\n",
    "    "
   ]
  },
  {
   "cell_type": "code",
   "execution_count": null,
   "metadata": {},
   "outputs": [],
   "source": [
    "K_st_vec = np.array(rows)\n",
    "K_st_vec.shape"
   ]
  },
  {
   "cell_type": "code",
   "execution_count": null,
   "metadata": {},
   "outputs": [],
   "source": [
    "K_st_vec.shape[0]"
   ]
  },
  {
   "cell_type": "code",
   "execution_count": null,
   "metadata": {},
   "outputs": [],
   "source": [
    "qk = np.zeros((K_st_vec.shape[0], K_st_vec.shape[1]))\n",
    "print(qk.shape)\n",
    "for i in range(K_st_vec.shape[0]):\n",
    "    for j in range(K_st_vec.shape[1]):\n",
    "#        qk[i,j] =\n",
    "        a = np.vdot(K_st_vec[i][j], K_st_vec[i][j])\n",
    "        qk[i, j] = np.vdot(a, a).real"
   ]
  },
  {
   "cell_type": "code",
   "execution_count": null,
   "metadata": {},
   "outputs": [],
   "source": [
    "qk "
   ]
  },
  {
   "cell_type": "code",
   "execution_count": null,
   "metadata": {},
   "outputs": [],
   "source": [
    "from quantum_svm.quantum.quantum_kernels import quantum_kernel"
   ]
  },
  {
   "cell_type": "code",
   "execution_count": null,
   "metadata": {},
   "outputs": [],
   "source": [
    "QK = quantum_kernel(quantum_params)"
   ]
  },
  {
   "cell_type": "code",
   "execution_count": null,
   "metadata": {},
   "outputs": [],
   "source": [
    "QK_X = QK(X)"
   ]
  },
  {
   "cell_type": "code",
   "execution_count": null,
   "metadata": {},
   "outputs": [],
   "source": [
    "QK_X"
   ]
  },
  {
   "cell_type": "code",
   "execution_count": null,
   "metadata": {},
   "outputs": [],
   "source": [
    "img = np.vdot(st_vec[2],st_vec[2])\n",
    "real = np.vdot(img, img).real\n",
    "real"
   ]
  },
  {
   "cell_type": "code",
   "execution_count": null,
   "metadata": {},
   "outputs": [],
   "source": [
    "img = np.vdot(st_vec[0],st_vec[1]).real\n",
    "img"
   ]
  },
  {
   "cell_type": "code",
   "execution_count": null,
   "metadata": {},
   "outputs": [],
   "source": [
    "str(backend)  == 'statevector_simulator'"
   ]
  },
  {
   "cell_type": "code",
   "execution_count": null,
   "metadata": {},
   "outputs": [],
   "source": [
    "#from qiskit.providers.aer.backends.aerbackend.AerBackend import StatevectorSimulator\n",
    "\n",
    "if isinstance(backend, Aer.get_backend('statevector_simulator')):\n",
    "    print(True)"
   ]
  },
  {
   "cell_type": "code",
   "execution_count": null,
   "metadata": {},
   "outputs": [],
   "source": [
    "st_vec\n",
    "N = X.shape[0]\n",
    "kernel = np.array((N, N))\n",
    "ind = N*N\n",
    "for i in range(N):\n",
    "    j = 10\n",
    "    c = i+1\n",
    "    kernel[i,:] = st_vec[:j*c]"
   ]
  },
  {
   "cell_type": "code",
   "execution_count": null,
   "metadata": {},
   "outputs": [],
   "source": [
    "arr = np.array(st_vec)\n",
    "arr"
   ]
  },
  {
   "cell_type": "code",
   "execution_count": null,
   "metadata": {},
   "outputs": [],
   "source": [
    "# simulate \n",
    "backend = Aer.get_backend('statevector_simulator')\n",
    "job = execute(circuits, backend, shots=8192, seed_simulator=1024, see_transpiler=1024, had_transpiled=True)\n",
    "statevectors = []\n",
    "for j in range(2):\n",
    "    statevectors.append(job.result().get_statevector(j))"
   ]
  },
  {
   "cell_type": "code",
   "execution_count": null,
   "metadata": {},
   "outputs": [],
   "source": [
    "statevectors"
   ]
  },
  {
   "cell_type": "code",
   "execution_count": null,
   "metadata": {},
   "outputs": [],
   "source": [
    "statevectors"
   ]
  },
  {
   "cell_type": "code",
   "execution_count": null,
   "metadata": {},
   "outputs": [],
   "source": [
    "# at state vetcors "
   ]
  },
  {
   "cell_type": "code",
   "execution_count": null,
   "metadata": {},
   "outputs": [],
   "source": []
  },
  {
   "cell_type": "code",
   "execution_count": null,
   "metadata": {},
   "outputs": [],
   "source": []
  },
  {
   "cell_type": "code",
   "execution_count": null,
   "metadata": {},
   "outputs": [],
   "source": [
    "##### continue - very close"
   ]
  },
  {
   "cell_type": "code",
   "execution_count": null,
   "metadata": {},
   "outputs": [],
   "source": [
    "counts"
   ]
  },
  {
   "cell_type": "code",
   "execution_count": null,
   "metadata": {},
   "outputs": [],
   "source": [
    "import qiskit as qk\n",
    "from qiskit import BasicAer, Aer, execute\n",
    "# Creating Qubits\n",
    "q = qk.QuantumRegister(2)\n",
    "# Creating Classical Bits\n",
    "c = qk.ClassicalRegister(2)"
   ]
  },
  {
   "cell_type": "code",
   "execution_count": null,
   "metadata": {},
   "outputs": [],
   "source": [
    "circuit = qk.QuantumCircuit(q, c)\n",
    "# Hadamard Gate on the first Qubit\n",
    "circuit.h(q[0])\n",
    "# CNOT Gate on the first and second Qubits\n",
    "circuit.cx(q[0], q[1])\n",
    "# Measuring the Qubits\n",
    "circuit.measure(q, c)\n",
    "circuit.draw('mpl')"
   ]
  },
  {
   "cell_type": "code",
   "execution_count": null,
   "metadata": {},
   "outputs": [],
   "source": [
    "from qiskit.utils import QuantumInstance\n",
    "shots = 8192\n",
    "seed = 1024\n",
    "q_instance = QuantumInstance(Aer.get_backend('statevector_simulator'), shots=shots,\n",
    "                                    seed_simulator=seed, seed_transpiler=seed)"
   ]
  },
  {
   "cell_type": "code",
   "execution_count": null,
   "metadata": {},
   "outputs": [],
   "source": [
    "res = q_instance.execute(circuits[1], had_transpiled=True)"
   ]
  },
  {
   "cell_type": "code",
   "execution_count": null,
   "metadata": {},
   "outputs": [],
   "source": [
    "res.get_statevector()"
   ]
  },
  {
   "cell_type": "code",
   "execution_count": null,
   "metadata": {},
   "outputs": [],
   "source": [
    "backend = Aer.get_backend('qasm_simulator')\n",
    "job = execute(circuit, backend, shots=8192, seed_simulator=1024, see_transpiler=1024)\n",
    "counts= job.result().get_counts(circuit)"
   ]
  },
  {
   "cell_type": "code",
   "execution_count": null,
   "metadata": {},
   "outputs": [],
   "source": [
    "counts"
   ]
  },
  {
   "cell_type": "code",
   "execution_count": null,
   "metadata": {},
   "outputs": [],
   "source": [
    "from qiskit.circuit.gate import Gate"
   ]
  },
  {
   "cell_type": "code",
   "execution_count": null,
   "metadata": {},
   "outputs": [],
   "source": [
    "circuit = qk.QuantumCircuit(2)\n",
    "circuit.h(0)\n",
    "circuit.h(1)\n",
    "circuit.barrier()\n",
    "circuit.draw('mpl')"
   ]
  },
  {
   "cell_type": "code",
   "execution_count": null,
   "metadata": {},
   "outputs": [],
   "source": [
    "test = circuit.reverse_ops()\n",
    "test.draw('mpl')"
   ]
  },
  {
   "cell_type": "code",
   "execution_count": null,
   "metadata": {},
   "outputs": [],
   "source": [
    "circuit = qk.QuantumCircuit(2)\n",
    "circuit.h(0)\n",
    "circuit.h(1)\n",
    "circuit.barrier()\n",
    "circuit.u(0,0,2*custom_data_map_func(np.array([0.57832])),0)\n",
    "circuit.u(0,0,2*custom_data_map_func(np.array([0.32638])),1)\n",
    "circuit.cx(0,1)\n",
    "circuit.u(0,0,2*custom_data_map_func(np.array([0.57832, 0.32638])),1)\n",
    "circuit.cx(0,1)\n",
    "circuit.draw('mpl')"
   ]
  },
  {
   "cell_type": "code",
   "execution_count": null,
   "metadata": {},
   "outputs": [],
   "source": [
    "from qiskit.circuit.quantumcircuit import QuantumCircuit\n",
    "circuit = QuantumCircuit(2)\n",
    "circuit.h(0)\n",
    "circuit.h(1)\n",
    "circuit.barrier()\n",
    "circuit.u(0,0,2*custom_data_map_func(np.array([0.57832])),0)\n",
    "circuit.u(0,0,2*custom_data_map_func(np.array([0.32638])),1)\n",
    "circuit.cx(0,1)\n",
    "circuit.u(0,0,2*custom_data_map_func(np.array([0.57832, 0.32638])),1)\n",
    "circuit.cx(0,1)\n",
    "circuit.draw('mpl')"
   ]
  },
  {
   "cell_type": "code",
   "execution_count": null,
   "metadata": {},
   "outputs": [],
   "source": [
    "inverse = circuit.mirror()\n",
    "inverse.draw('mpl')"
   ]
  },
  {
   "cell_type": "code",
   "execution_count": null,
   "metadata": {},
   "outputs": [],
   "source": [
    "hasattr(circuit, 'mirror')"
   ]
  },
  {
   "cell_type": "code",
   "execution_count": null,
   "metadata": {},
   "outputs": [],
   "source": [
    "new_qc = circuit.compose(inverse, [0,1])\n",
    "new_qc.draw('mpl')"
   ]
  },
  {
   "cell_type": "code",
   "execution_count": null,
   "metadata": {},
   "outputs": [],
   "source": [
    "import functools\n",
    "\n",
    "def custom_data_map_func(x):\n",
    "    \"\"\"Define a function map from R^n to R.\n",
    "    \n",
    "    Args:\n",
    "        x (np.ndarray): data\n",
    "    Returns:\n",
    "        double: the mapped value\n",
    "    \"\"\"\n",
    "    coeff = x[0] if len(x) == 1 else functools.reduce(lambda m, n: m * n, np.pi - x)\n",
    "    return coeff"
   ]
  },
  {
   "cell_type": "code",
   "execution_count": null,
   "metadata": {},
   "outputs": [],
   "source": [
    "2*custom_data_map_func(np.array([0.57832, 0.32638])), 2*custom_data_map_func(np.array([0.72834, 0.49216])) "
   ]
  },
  {
   "cell_type": "code",
   "execution_count": null,
   "metadata": {},
   "outputs": [],
   "source": [
    "2*0.57832"
   ]
  },
  {
   "cell_type": "code",
   "execution_count": null,
   "metadata": {},
   "outputs": [],
   "source": [
    "2*0.32638"
   ]
  },
  {
   "cell_type": "code",
   "execution_count": null,
   "metadata": {},
   "outputs": [],
   "source": [
    "print(circuit)"
   ]
  },
  {
   "cell_type": "code",
   "execution_count": null,
   "metadata": {},
   "outputs": [],
   "source": [
    "print(zz_map)"
   ]
  },
  {
   "cell_type": "code",
   "execution_count": null,
   "metadata": {},
   "outputs": [],
   "source": [
    "zz_map.decompose().decompose().draw('mpl')"
   ]
  },
  {
   "cell_type": "code",
   "execution_count": null,
   "metadata": {},
   "outputs": [],
   "source": [
    "from quantum_svm.quantum.qubit import Qubit\n",
    "from quantum_svm.quantum.circuit import QuantumCircuit\n",
    "from quantum_svm.quantum.quantum_gates import Hadamard, PauliX, PauliY, PauliZ, CNOT\n",
    "import numpy as np"
   ]
  },
  {
   "cell_type": "code",
   "execution_count": null,
   "metadata": {},
   "outputs": [],
   "source": [
    "\n"
   ]
  },
  {
   "cell_type": "code",
   "execution_count": null,
   "metadata": {},
   "outputs": [],
   "source": [
    "q0 = Qubit(bit='00')\n",
    "q0"
   ]
  },
  {
   "cell_type": "code",
   "execution_count": null,
   "metadata": {},
   "outputs": [],
   "source": [
    "circuit = QuantumCircuit([Hadamard(0, 1), CNOT([0, 1], 1, 2)], 2)\n",
    "\n",
    "bell_circuit.apply(qubit00.get_statevector())"
   ]
  },
  {
   "cell_type": "code",
   "execution_count": null,
   "metadata": {},
   "outputs": [],
   "source": [
    "from qiskit_machine_learning.circuit.library import RawFeatureVector"
   ]
  },
  {
   "cell_type": "code",
   "execution_count": null,
   "metadata": {},
   "outputs": [],
   "source": [
    "feature_map = RawFeatureVector(feature_dimension=2)\n",
    "feature_map.draw()"
   ]
  },
  {
   "cell_type": "code",
   "execution_count": null,
   "metadata": {},
   "outputs": [],
   "source": [
    "from qiskit_machine_learning.circuit.library import RawFeatureVector\n",
    "\n",
    "circuit = RawFeatureVector(2)\n",
    "print(circuit.num_qubits)\n",
    "# prints: 2\n",
    "print(circuit.draw(output='text'))"
   ]
  },
  {
   "cell_type": "code",
   "execution_count": null,
   "metadata": {},
   "outputs": [],
   "source": [
    "\n",
    "#print(circuit.ordered_parameters)\n",
    "# prints: [Parameter(p[0]), Parameter(p[1]), Parameter(p[2]), Parameter(p[3])]\n",
    "import numpy as np\n",
    "state = np.array([1, 0]) / np.sqrt(2)\n",
    "\n",
    "bound = circuit.assign_parameters(state)\n",
    "print(bound.draw())"
   ]
  },
  {
   "cell_type": "code",
   "execution_count": null,
   "metadata": {},
   "outputs": [],
   "source": [
    "from qiskit_machine_learning.kernels import QuantumKernel\n",
    "from qiskit.circuit.library import ZZFeatureMap, PauliFeatureMap\n",
    "from qiskit import BasicAer, Aer, execute\n",
    "from qiskit.utils import QuantumInstance"
   ]
  },
  {
   "cell_type": "code",
   "execution_count": null,
   "metadata": {},
   "outputs": [],
   "source": [
    "zz_map = ZZFeatureMap(feature_dimension=2, reps=1, entanglement='linear', insert_barriers=True)"
   ]
  },
  {
   "cell_type": "code",
   "execution_count": null,
   "metadata": {},
   "outputs": [],
   "source": [
    "zz_kernel = QuantumKernel(feature_map=zz_map, quantum_instance=Aer.get_backend('statevector_simulator'))"
   ]
  },
  {
   "cell_type": "code",
   "execution_count": null,
   "metadata": {},
   "outputs": [],
   "source": [
    "zz_circuit = zz_kernel.construct_circuit(np.array([0.57832, 0.32638]), np.array([0.72834, 0.49216]))\n",
    "zz_circuit.decompose().decompose().decompose().draw(output='mpl')"
   ]
  },
  {
   "cell_type": "code",
   "execution_count": null,
   "metadata": {},
   "outputs": [],
   "source": [
    "prep = PauliFeatureMap(2, reps=1, paulis=['ZZ'])\n",
    "print(prep)"
   ]
  },
  {
   "cell_type": "code",
   "execution_count": null,
   "metadata": {},
   "outputs": [],
   "source": [
    "from quantum_svm.quantum.qubit import Qubit\n",
    "\n",
    "qubit0 = Qubit(bit='0')\n",
    "qubit0\n",
    "\n",
    "qubit0.get_statevector()\n",
    "\n",
    "qubit00 = Qubit(bit='11')\n",
    "qubit00"
   ]
  },
  {
   "cell_type": "code",
   "execution_count": null,
   "metadata": {},
   "outputs": [],
   "source": [
    "from quantum_svm.quantum.qubit import Qubit\n",
    "from quantum_svm.quantum.circuit import QuantumCircuit\n",
    "from quantum_svm.quantum.quantum_gates import Hadamard, PauliX, PauliY, PauliZ, CNOT\n",
    "import numpy as np"
   ]
  },
  {
   "cell_type": "code",
   "execution_count": null,
   "metadata": {},
   "outputs": [],
   "source": [
    "qubit00 = Qubit(bit='00')\n",
    "qubit00"
   ]
  },
  {
   "cell_type": "code",
   "execution_count": null,
   "metadata": {},
   "outputs": [],
   "source": [
    "bell_circuit = QuantumCircuit([\n",
    "                               Hadamard(0, 2),\n",
    "                               CNOT([0, 1], 1, 2)\n",
    "                               ], \n",
    "                             2)\n",
    "\n",
    "bell_00 = bell_circuit.apply(qubit00.get_statevector())\n",
    "bell_00"
   ]
  },
  {
   "cell_type": "code",
   "execution_count": null,
   "metadata": {},
   "outputs": [],
   "source": []
  },
  {
   "cell_type": "code",
   "execution_count": null,
   "metadata": {},
   "outputs": [],
   "source": [
    "# Measurement "
   ]
  },
  {
   "cell_type": "code",
   "execution_count": null,
   "metadata": {},
   "outputs": [],
   "source": [
    "qubit0 = Qubit(bit='0')\n",
    "qubit1 = Qubit(bit='1')\n",
    "P0 = np.dot(qubit0.get_statevector().T, qubit0.get_statevector())\n",
    "P1 = np.dot(qubit1.get_statevector().T, qubit1.get_statevector())\n",
    "P0, P1"
   ]
  },
  {
   "cell_type": "code",
   "execution_count": null,
   "metadata": {},
   "outputs": [],
   "source": [
    "qubit11 = Qubit(bit='11')\n",
    "bell_11 = bell_circuit.apply(qubit11.get_statevector())\n",
    "bell_11"
   ]
  },
  {
   "cell_type": "code",
   "execution_count": null,
   "metadata": {},
   "outputs": [],
   "source": [
    "state = "
   ]
  },
  {
   "cell_type": "code",
   "execution_count": null,
   "metadata": {},
   "outputs": [],
   "source": [
    "qubit0 = Qubit(bit='0')\n",
    "qubit1 = Qubit(bit='1')\n",
    "\n",
    "state_zero = qubit0.get_statevector().T\n",
    "state_one = qubit1.get_statevector().T\n",
    "state_zero, state_one"
   ]
  },
  {
   "cell_type": "code",
   "execution_count": null,
   "metadata": {},
   "outputs": [],
   "source": [
    "def multi_kron(*args):\n",
    "    ret = np.array([[1.0]])\n",
    "    for q in args:\n",
    "        ret = np.kron(ret, q)\n",
    "    return ret\n",
    "\n",
    "gate_H = 1.0 / 2**0.5 * np.array([[1, 1],\n",
    "                             [1, -1]])"
   ]
  },
  {
   "cell_type": "code",
   "execution_count": null,
   "metadata": {},
   "outputs": [],
   "source": [
    "gate_I = np.eye(2)\n",
    "state_t0 = multi_kron(state_zero, state_one)\n",
    "print(state_t0)\n",
    "state_t1 = np.dot(multi_kron(gate_H, gate_I), state_t0)\n",
    "print(state_t1)"
   ]
  },
  {
   "cell_type": "code",
   "execution_count": null,
   "metadata": {},
   "outputs": [],
   "source": [
    "# Prepare state\n",
    "state = np.dot(multi_kron(gate_H, gate_H), multi_kron(state_zero, state_zero))\n",
    "# Projectors\n",
    "P0 = np.dot(state_zero, state_zero.T)\n",
    "P1 = np.dot(state_one, state_one.T)\n"
   ]
  },
  {
   "cell_type": "code",
   "execution_count": null,
   "metadata": {},
   "outputs": [],
   "source": [
    "# Probability of first qubit being in state 0\n",
    "rho = np.dot(state, state.T)\n",
    "prob0 = np.trace(np.dot(multi_kron(P0, gate_I), rho))\n",
    "# Simulate\n",
    "if np.random.rand() < prob0:\n",
    "    ret = 0\n",
    "    state_ret = np.dot(multi_kron(P0, gate_I), state)\n",
    "else:\n",
    "    ret = 1\n",
    "    state_ret = np.dot(multi_kron(P1, gate_I), state) \n",
    "# Normalize\n",
    "from scipy import linalg\n",
    "state_ret /= linalg.norm(state_ret)\n",
    "\n",
    "print(\"Qubit Measured: \\n {} \\n After-Measurment State: \\n {}\".format(ret, state_ret))"
   ]
  },
  {
   "cell_type": "code",
   "execution_count": null,
   "metadata": {},
   "outputs": [],
   "source": []
  },
  {
   "cell_type": "code",
   "execution_count": null,
   "metadata": {},
   "outputs": [],
   "source": []
  },
  {
   "cell_type": "code",
   "execution_count": null,
   "metadata": {},
   "outputs": [],
   "source": [
    "\n",
    "# Wire 0 is right-most wire\n",
    "cnot = CNOT(wires=[0, 2], target=0, n=3)\n",
    "x = PauliX(wire=2, n=3)\n",
    "\n",
    "cnot._build_naive_op_mat()\n",
    "x._build_naive_op_mat()\n",
    "\n",
    "v = np.array([1, 2, 3, 4, 5, 6, 7, 8])\n",
    "\n",
    "cnot_v = cnot.apply(v)\n",
    "cnot_v_naive = cnot.naive_apply(v)\n",
    "\n",
    "x_v = x.apply(v)\n",
    "x_v_naive = x.naive_apply(v)\n",
    "\n",
    "print(f\"v: {v}\")\n",
    "print(f\"cnot_v: {cnot_v}\")\n",
    "print(f\"cnot_v_naive: {cnot_v_naive.real}\")\n",
    "print(f\"x_v: {x_v}\")\n",
    "print(f\"x_v_naive: {x_v_naive.real}\")\n",
    "\n",
    "bell_circuit = Circuit([\n",
    "    Hadamard(0, 2),\n",
    "    CNOT([0, 1], 1, 2)\n",
    "], 2)\n",
    "v = np.array([1, 0, 0, 0])\n",
    "bell_00 = bell_circuit.apply(v)\n",
    "print(f\"bell_00: {bell_00}\")"
   ]
  },
  {
   "cell_type": "code",
   "execution_count": null,
   "metadata": {},
   "outputs": [],
   "source": [
    "from quantum_svm.quantum.qubit import Qubit"
   ]
  },
  {
   "cell_type": "code",
   "execution_count": null,
   "metadata": {},
   "outputs": [],
   "source": [
    "qubit0 = Qubit(bit='0')\n",
    "qubit0"
   ]
  },
  {
   "cell_type": "code",
   "execution_count": null,
   "metadata": {},
   "outputs": [],
   "source": [
    "qubit0.get_statevector()"
   ]
  },
  {
   "cell_type": "code",
   "execution_count": null,
   "metadata": {},
   "outputs": [],
   "source": [
    "qubit00 = Qubit(bit='11')\n",
    "qubit00"
   ]
  },
  {
   "cell_type": "code",
   "execution_count": null,
   "metadata": {},
   "outputs": [],
   "source": []
  },
  {
   "cell_type": "code",
   "execution_count": null,
   "metadata": {},
   "outputs": [],
   "source": []
  }
 ],
 "metadata": {
  "kernelspec": {
   "display_name": "svm_venv",
   "language": "python",
   "name": "svm_venv"
  },
  "language_info": {
   "codemirror_mode": {
    "name": "ipython",
    "version": 3
   },
   "file_extension": ".py",
   "mimetype": "text/x-python",
   "name": "python",
   "nbconvert_exporter": "python",
   "pygments_lexer": "ipython3",
   "version": "3.7.4"
  }
 },
 "nbformat": 4,
 "nbformat_minor": 2
}
