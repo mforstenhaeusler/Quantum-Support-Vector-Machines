{
 "cells": [
  {
   "cell_type": "code",
   "execution_count": 165,
   "metadata": {},
   "outputs": [],
   "source": [
    "import qiskit as qk\n",
    "\n",
    "# Creating Qubits\n",
    "q = qk.QuantumRegister(2)\n",
    "# Creating Classical Bits\n",
    "c = qk.ClassicalRegister(2)"
   ]
  },
  {
   "cell_type": "code",
   "execution_count": 166,
   "metadata": {},
   "outputs": [
    {
     "name": "stdout",
     "output_type": "stream",
     "text": [
      "      ┌───┐     ┌─┐   \n",
      "q2_0: ┤ H ├──■──┤M├───\n",
      "      └───┘┌─┴─┐└╥┘┌─┐\n",
      "q2_1: ─────┤ X ├─╫─┤M├\n",
      "           └───┘ ║ └╥┘\n",
      "c2: 2/═══════════╩══╩═\n",
      "                 0  1 \n"
     ]
    }
   ],
   "source": [
    "circuit = qk.QuantumCircuit(q, c)\n",
    "# Hadamard Gate on the first Qubit\n",
    "circuit.h(q[0])\n",
    "# CNOT Gate on the first and second Qubits\n",
    "circuit.cx(q[0], q[1])\n",
    "# Measuring the Qubits\n",
    "circuit.measure(q, c)\n",
    "print(circuit)"
   ]
  },
  {
   "cell_type": "code",
   "execution_count": 181,
   "metadata": {},
   "outputs": [],
   "source": [
    "qc = qk.QuantumCircuit(1)"
   ]
  },
  {
   "cell_type": "code",
   "execution_count": 185,
   "metadata": {},
   "outputs": [
    {
     "data": {
      "text/html": [
       "<pre style=\"word-wrap: normal;white-space: pre;background: #fff0;line-height: 1.1;font-family: &quot;Courier New&quot;,Courier,monospace\">     \n",
       "q_0: \n",
       "     </pre>"
      ],
      "text/plain": [
       "     \n",
       "q_0: \n",
       "     "
      ]
     },
     "execution_count": 185,
     "metadata": {},
     "output_type": "execute_result"
    }
   ],
   "source": [
    "qc.draw()"
   ]
  },
  {
   "cell_type": "code",
   "execution_count": 118,
   "metadata": {},
   "outputs": [],
   "source": [
    "from qiskit_machine_learning.kernels import QuantumKernel\n",
    "from qiskit.circuit.library import ZZFeatureMap, PauliFeatureMap\n",
    "from qiskit import BasicAer, Aer, execute\n",
    "from qiskit.utils import QuantumInstance"
   ]
  },
  {
   "cell_type": "code",
   "execution_count": 119,
   "metadata": {},
   "outputs": [],
   "source": [
    "zz_map = ZZFeatureMap(feature_dimension=2, reps=2, entanglement='linear', insert_barriers=True)"
   ]
  },
  {
   "cell_type": "code",
   "execution_count": 120,
   "metadata": {},
   "outputs": [],
   "source": [
    "zz_kernel = QuantumKernel(feature_map=zz_map, quantum_instance=Aer.get_backend('statevector_simulator'))"
   ]
  },
  {
   "cell_type": "code",
   "execution_count": 121,
   "metadata": {},
   "outputs": [
    {
     "data": {
      "image/png": "[encoded data removed]",
      "text/plain": [
       "<Figure size 1591.45x445.48 with 1 Axes>"
      ]
     },
     "execution_count": 121,
     "metadata": {},
     "output_type": "execute_result"
    }
   ],
   "source": [
    "zz_circuit = zz_kernel.construct_circuit(np.array([0.57832, 0.32638]), np.array([0.72834, 0.49216]))\n",
    "zz_circuit.decompose().decompose().draw(output='mpl')"
   ]
  },
  {
   "cell_type": "code",
   "execution_count": 122,
   "metadata": {},
   "outputs": [
    {
     "name": "stdout",
     "output_type": "stream",
     "text": [
      "     ┌───┐                                           \n",
      "q_0: ┤ H ├──■─────────────────────────────────────■──\n",
      "     ├───┤┌─┴─┐┌───────────────────────────────┐┌─┴─┐\n",
      "q_1: ┤ H ├┤ X ├┤ U1(2.0*(π - x[0])*(π - x[1])) ├┤ X ├\n",
      "     └───┘└───┘└───────────────────────────────┘└───┘\n"
     ]
    }
   ],
   "source": [
    "prep = PauliFeatureMap(2, reps=1, paulis=['ZZ'])\n",
    "print(prep)"
   ]
  },
  {
   "cell_type": "code",
   "execution_count": 94,
   "metadata": {},
   "outputs": [],
   "source": [
    "import functools\n",
    "\n",
    "import numpy as np\n",
    "\n",
    "\n",
    "def self_product(x: np.ndarray) -> float:\n",
    "    \"\"\"\n",
    "    Define a function map from R^n to R.\n",
    "\n",
    "    Args:\n",
    "        x: data\n",
    "\n",
    "    Returns:\n",
    "        float: the mapped value\n",
    "    \"\"\"\n",
    "    coeff = x[0] if len(x) == 1 else \\\n",
    "        functools.reduce(lambda m, n: m * n, np.pi - x)\n",
    "    return coeff"
   ]
  },
  {
   "cell_type": "code",
   "execution_count": 97,
   "metadata": {},
   "outputs": [
    {
     "data": {
      "text/plain": [
       "3.4164196235102384"
      ]
     },
     "execution_count": 97,
     "metadata": {},
     "output_type": "execute_result"
    }
   ],
   "source": [
    "a = np.array([1,4,5])\n",
    "self_product(a)"
   ]
  },
  {
   "cell_type": "code",
   "execution_count": 102,
   "metadata": {},
   "outputs": [
    {
     "data": {
      "text/plain": [
       "-0.5752220392306207"
      ]
     },
     "execution_count": 102,
     "metadata": {},
     "output_type": "execute_result"
    }
   ],
   "source": [
    "b =  np.pi-a\n",
    "b[0]+b[1]+b[2]"
   ]
  },
  {
   "cell_type": "code",
   "execution_count": 98,
   "metadata": {},
   "outputs": [],
   "source": [
    "functools.reduce?"
   ]
  },
  {
   "cell_type": "code",
   "execution_count": null,
   "metadata": {},
   "outputs": [],
   "source": [
    "from quantum_svm.quantum.qubit import Qubit\n",
    "\n",
    "qubit0 = Qubit(bit='0')\n",
    "qubit0\n",
    "\n",
    "qubit0.get_statevector()\n",
    "\n",
    "qubit00 = Qubit(bit='11')\n",
    "qubit00\n",
    "\n",
    "\n",
    "\n",
    "from quantum_svm.quantum.quantum_gates import Hadamard\n",
    "import numpy as np\n",
    "\n",
    "%load_ext autoreload\n",
    "\n",
    "%autoreload 2\n",
    "\n",
    "H = Hadamard(0,1)\n",
    "\n",
    "H.apply(qubit0.get_statevector())\n",
    "\n",
    "np.dot(qubit0.get_statevector(), hadamard_gate())\n",
    "\n",
    "H.apply_2(qubit0.get_statevector())\n",
    "\n",
    "st_vec = qubit00.get_statevector().reshape((2, 2, 2 ** 0)).astype(np.complex_)\n",
    "hadamard_gate() @ st_vec\n",
    "\n",
    "st_vec\n",
    "\n",
    "from quantum_svm.quantum.utils import hadamard_gate\n",
    "\n",
    "hadamard_gate()[1,1]\n",
    "\n",
    "\n",
    "\n"
   ]
  },
  {
   "cell_type": "code",
   "execution_count": null,
   "metadata": {},
   "outputs": [],
   "source": []
  },
  {
   "cell_type": "code",
   "execution_count": null,
   "metadata": {},
   "outputs": [],
   "source": []
  },
  {
   "cell_type": "code",
   "execution_count": null,
   "metadata": {},
   "outputs": [],
   "source": []
  },
  {
   "cell_type": "code",
   "execution_count": null,
   "metadata": {},
   "outputs": [],
   "source": []
  },
  {
   "cell_type": "code",
   "execution_count": null,
   "metadata": {},
   "outputs": [],
   "source": []
  },
  {
   "cell_type": "code",
   "execution_count": 152,
   "metadata": {},
   "outputs": [],
   "source": [
    "# adopted form https://medium.com/analytics-vidhya/python-program-to-convert-floating-point-decimal-to-binary-485470421743\n",
    "    \n",
    "def float_bin(number, places = 3):\n",
    "  \n",
    "    # split() seperates whole number and decimal \n",
    "    # part and stores it in two seperate variables\n",
    "    whole, dec = str(number).split(\".\")\n",
    "  \n",
    "    # Convert both whole number and decimal  \n",
    "    # part from string type to integer type\n",
    "    whole = int(whole)\n",
    "    dec = int (dec)\n",
    "  \n",
    "    # Convert the whole number part to it's\n",
    "    # respective binary form and remove the\n",
    "    # \"0b\" from it.\n",
    "    res = bin(whole).lstrip(\"0b\") + \".\"\n",
    "  \n",
    "    # Iterate the number of times, we want\n",
    "    # the number of decimal places to be\n",
    "    for x in range(places):\n",
    "  \n",
    "        # Multiply the decimal value by 2 \n",
    "        # and seperate the whole number part\n",
    "        # and decimal part\n",
    "        whole, dec = str((decimal_converter(dec)) * 2).split(\".\")\n",
    "  \n",
    "        # Convert the decimal part\n",
    "        # to integer again\n",
    "        dec = int(dec)\n",
    "  \n",
    "        # Keep adding the integer parts \n",
    "        # receive to the result variable\n",
    "        res += whole\n",
    "  \n",
    "    return res\n",
    "\n",
    "def decimal_converter(num): \n",
    "    while num > 1:\n",
    "        num /= 10\n",
    "    return num"
   ]
  },
  {
   "cell_type": "code",
   "execution_count": 154,
   "metadata": {},
   "outputs": [
    {
     "data": {
      "text/plain": [
       "'1.001'"
      ]
     },
     "execution_count": 154,
     "metadata": {},
     "output_type": "execute_result"
    }
   ],
   "source": [
    "float_bin(1.2)"
   ]
  },
  {
   "cell_type": "code",
   "execution_count": 155,
   "metadata": {},
   "outputs": [
    {
     "name": "stdout",
     "output_type": "stream",
     "text": [
      "Enter a floating point decimal number: 1.1\n",
      "Enter the number of decimal places in the result: 15\n",
      "************************************************************\n",
      "The binary number of 1.1 is:\n",
      "1 . 0 0 0 1 1 0 0 1 1 0 0 1 1 0 0\n",
      "************************************************************\n"
     ]
    }
   ],
   "source": [
    "def dec2bin(num):\n",
    "    \"\"\"\"\n",
    "    Function to convert a floating point decimal number to binary number\n",
    "    \"\"\"\n",
    "    global whole_list\n",
    "    global dec_list\n",
    "    whole, dec = str(num).split('.')\n",
    "    whole = int(whole)\n",
    "    dec = int(dec)\n",
    "    counter = 1\n",
    "    \n",
    "    while (whole / 2 >= 1):\n",
    "            i = int(whole % 2)\n",
    "            whole_list.append(i)\n",
    "            whole /= 2\n",
    "            \n",
    "    decproduct = dec      \n",
    "    while (counter <= places):\n",
    "        decproduct = decproduct * (10**-(len(str(decproduct))))\n",
    "        decproduct *= 2\n",
    "        decwhole, decdec = str(decproduct).split('.')\n",
    "        decwhole = int(decwhole)\n",
    "        decdec = int(decdec)\n",
    "        dec_list.append(decwhole)\n",
    "        decproduct = decdec\n",
    "        counter += 1\n",
    "        \n",
    "whole_list = []\n",
    "dec_list = []\n",
    "try:\n",
    "    num = float(input('Enter a floating point decimal number: '))\n",
    "    \n",
    "except(ValueError):\n",
    "    print('Please enter a valid floating point decimal')\n",
    "\n",
    "try:\n",
    "    places = int(input('Enter the number of decimal places in the result: '))\n",
    "    dec2bin(num)\n",
    "    if(len(whole_list) > 1):\n",
    "        whole_list.reverse()\n",
    "    whole_list.insert(0, 1)\n",
    "    \n",
    "    aster = '*'\n",
    "    print(aster * 60)\n",
    "    \n",
    "    print('The binary number of {0} is:' .format(num))\n",
    "    print(*whole_list, end =' ')\n",
    "    print('.', end = ' ')\n",
    "    print(*dec_list)\n",
    "    \n",
    "    print(aster * 60)\n",
    "        \n",
    "except(ValueError):\n",
    "    print('Please enter a valid integer number for places')"
   ]
  },
  {
   "cell_type": "code",
   "execution_count": null,
   "metadata": {},
   "outputs": [],
   "source": []
  },
  {
   "cell_type": "code",
   "execution_count": null,
   "metadata": {},
   "outputs": [],
   "source": []
  },
  {
   "cell_type": "code",
   "execution_count": 169,
   "metadata": {},
   "outputs": [
    {
     "name": "stdout",
     "output_type": "stream",
     "text": [
      "v: [1 2 3 4 5 6 7 8]\n",
      "cnot_v: [1.+0.j 2.+0.j 3.+0.j 4.+0.j 6.+0.j 5.+0.j 8.+0.j 7.+0.j]\n",
      "cnot_v_naive: [1. 2. 3. 4. 6. 5. 8. 7.]\n",
      "x_v: [5.+0.j 6.+0.j 7.+0.j 8.+0.j 1.+0.j 2.+0.j 3.+0.j 4.+0.j]\n",
      "x_v_naive: [5. 6. 7. 8. 1. 2. 3. 4.]\n",
      "bell_00: [0.70710678+0.j 0.        +0.j 0.        +0.j 0.70710678+0.j]\n"
     ]
    }
   ],
   "source": [
    "\n",
    "# Wire 0 is right-most wire\n",
    "cnot = CNOT(wires=[0, 2], target=0, n=3)\n",
    "x = PauliX(wire=2, n=3)\n",
    "\n",
    "cnot._build_naive_op_mat()\n",
    "x._build_naive_op_mat()\n",
    "\n",
    "v = np.array([1, 2, 3, 4, 5, 6, 7, 8])\n",
    "\n",
    "cnot_v = cnot.apply(v)\n",
    "cnot_v_naive = cnot.naive_apply(v)\n",
    "\n",
    "x_v = x.apply(v)\n",
    "x_v_naive = x.naive_apply(v)\n",
    "\n",
    "print(f\"v: {v}\")\n",
    "print(f\"cnot_v: {cnot_v}\")\n",
    "print(f\"cnot_v_naive: {cnot_v_naive.real}\")\n",
    "print(f\"x_v: {x_v}\")\n",
    "print(f\"x_v_naive: {x_v_naive.real}\")\n",
    "\n",
    "bell_circuit = Circuit([\n",
    "    Hadamard(0, 2),\n",
    "    CNOT([0, 1], 1, 2)\n",
    "], 2)\n",
    "v = np.array([1, 0, 0, 0])\n",
    "bell_00 = bell_circuit.apply(v)\n",
    "print(f\"bell_00: {bell_00}\")"
   ]
  },
  {
   "cell_type": "code",
   "execution_count": 1,
   "metadata": {},
   "outputs": [],
   "source": [
    "from quantum_svm.quantum.qubit import Qubit"
   ]
  },
  {
   "cell_type": "code",
   "execution_count": 2,
   "metadata": {},
   "outputs": [
    {
     "data": {
      "text/plain": [
       "|0> = \n",
       "\n",
       "[[1.+0.j]\n",
       " [0.+0.j]]"
      ]
     },
     "execution_count": 2,
     "metadata": {},
     "output_type": "execute_result"
    }
   ],
   "source": [
    "qubit0 = Qubit(bit='0')\n",
    "qubit0"
   ]
  },
  {
   "cell_type": "code",
   "execution_count": 3,
   "metadata": {},
   "outputs": [
    {
     "data": {
      "text/plain": [
       "array([[1.+0.j, 0.+0.j]])"
      ]
     },
     "execution_count": 3,
     "metadata": {},
     "output_type": "execute_result"
    }
   ],
   "source": [
    "qubit0.get_statevector()"
   ]
  },
  {
   "cell_type": "code",
   "execution_count": 4,
   "metadata": {},
   "outputs": [
    {
     "data": {
      "text/plain": [
       "|11> = \n",
       "\n",
       "[[0.+0.j]\n",
       " [0.+0.j]\n",
       " [0.+0.j]\n",
       " [1.+0.j]]"
      ]
     },
     "execution_count": 4,
     "metadata": {},
     "output_type": "execute_result"
    }
   ],
   "source": [
    "qubit00 = Qubit(bit='11')\n",
    "qubit00"
   ]
  },
  {
   "cell_type": "code",
   "execution_count": null,
   "metadata": {},
   "outputs": [],
   "source": []
  },
  {
   "cell_type": "code",
   "execution_count": 82,
   "metadata": {},
   "outputs": [
    {
     "name": "stdout",
     "output_type": "stream",
     "text": [
      "The autoreload extension is already loaded. To reload it, use:\n",
      "  %reload_ext autoreload\n"
     ]
    }
   ],
   "source": [
    "from quantum_svm.quantum.quantum_gates import Hadamard\n",
    "import numpy as np\n",
    "\n",
    "%load_ext autoreload\n",
    "\n",
    "%autoreload 2"
   ]
  },
  {
   "cell_type": "code",
   "execution_count": 83,
   "metadata": {},
   "outputs": [],
   "source": [
    "H = Hadamard(0,1)"
   ]
  },
  {
   "cell_type": "code",
   "execution_count": 85,
   "metadata": {},
   "outputs": [
    {
     "name": "stdout",
     "output_type": "stream",
     "text": [
      "(1, 2)\n",
      "(1, 2, 1)\n",
      "[1.+0.j]\n",
      "[0.+0.j]\n"
     ]
    },
    {
     "data": {
      "text/plain": [
       "array([0.70710678+0.j, 0.70710678+0.j])"
      ]
     },
     "execution_count": 85,
     "metadata": {},
     "output_type": "execute_result"
    }
   ],
   "source": [
    "H.apply(qubit0.get_statevector())"
   ]
  },
  {
   "cell_type": "code",
   "execution_count": 86,
   "metadata": {},
   "outputs": [
    {
     "data": {
      "text/plain": [
       "array([[0.70710678+0.j, 0.70710678+0.j]])"
      ]
     },
     "execution_count": 86,
     "metadata": {},
     "output_type": "execute_result"
    }
   ],
   "source": [
    "np.dot(qubit0.get_statevector(), hadamard_gate())"
   ]
  },
  {
   "cell_type": "code",
   "execution_count": 76,
   "metadata": {},
   "outputs": [
    {
     "ename": "IndexError",
     "evalue": "too many indices for array: array is 2-dimensional, but 3 were indexed",
     "output_type": "error",
     "traceback": [
      "\u001b[0;31m---------------------------------------------------------------------------\u001b[0m",
      "\u001b[0;31mIndexError\u001b[0m                                Traceback (most recent call last)",
      "\u001b[0;32m<ipython-input-76-765ead5f5bae>\u001b[0m in \u001b[0;36m<module>\u001b[0;34m\u001b[0m\n\u001b[0;32m----> 1\u001b[0;31m \u001b[0mH\u001b[0m\u001b[0;34m.\u001b[0m\u001b[0mapply_2\u001b[0m\u001b[0;34m(\u001b[0m\u001b[0mqubit0\u001b[0m\u001b[0;34m.\u001b[0m\u001b[0mget_statevector\u001b[0m\u001b[0;34m(\u001b[0m\u001b[0;34m)\u001b[0m\u001b[0;34m)\u001b[0m\u001b[0;34m\u001b[0m\u001b[0;34m\u001b[0m\u001b[0m\n\u001b[0m",
      "\u001b[0;32m~/Documents/TUM/Studium/Kurse/WiSe 21/Master-Seminar Quantum Computing/SVM & Kernel Methods/quantum_svm/quantum/quantum_gates.py\u001b[0m in \u001b[0;36mapply_2\u001b[0;34m(self, st_vec)\u001b[0m\n\u001b[1;32m     32\u001b[0m         \u001b[0;32melse\u001b[0m\u001b[0;34m:\u001b[0m\u001b[0;34m\u001b[0m\u001b[0;34m\u001b[0m\u001b[0m\n\u001b[1;32m     33\u001b[0m             \u001b[0mnew_st_vec\u001b[0m \u001b[0;34m=\u001b[0m \u001b[0mst_vec\u001b[0m\u001b[0;34m.\u001b[0m\u001b[0mcopy\u001b[0m\u001b[0;34m(\u001b[0m\u001b[0;34m)\u001b[0m\u001b[0;34m\u001b[0m\u001b[0;34m\u001b[0m\u001b[0m\n\u001b[0;32m---> 34\u001b[0;31m             \u001b[0mnew_st_vec\u001b[0m\u001b[0;34m[\u001b[0m\u001b[0;34m:\u001b[0m\u001b[0;34m,\u001b[0m \u001b[0;36m0\u001b[0m\u001b[0;34m,\u001b[0m \u001b[0;34m:\u001b[0m\u001b[0;34m]\u001b[0m \u001b[0;34m=\u001b[0m \u001b[0mhadamard_gate\u001b[0m\u001b[0;34m(\u001b[0m\u001b[0;34m)\u001b[0m \u001b[0;34m@\u001b[0m \u001b[0mnew_st_vec\u001b[0m\u001b[0;34m[\u001b[0m\u001b[0;34m:\u001b[0m\u001b[0;34m,\u001b[0m \u001b[0;36m0\u001b[0m\u001b[0;34m,\u001b[0m \u001b[0;34m:\u001b[0m\u001b[0;34m]\u001b[0m\u001b[0;34m\u001b[0m\u001b[0;34m\u001b[0m\u001b[0m\n\u001b[0m\u001b[1;32m     35\u001b[0m             \u001b[0mnew_st_vec\u001b[0m\u001b[0;34m[\u001b[0m\u001b[0;34m:\u001b[0m\u001b[0;34m,\u001b[0m \u001b[0;36m1\u001b[0m\u001b[0;34m,\u001b[0m \u001b[0;34m:\u001b[0m\u001b[0;34m]\u001b[0m \u001b[0;34m=\u001b[0m \u001b[0mhadamard_gate\u001b[0m\u001b[0;34m(\u001b[0m\u001b[0;34m)\u001b[0m \u001b[0;34m@\u001b[0m \u001b[0mnew_st_vec\u001b[0m\u001b[0;34m[\u001b[0m\u001b[0;34m:\u001b[0m\u001b[0;34m,\u001b[0m \u001b[0;36m1\u001b[0m\u001b[0;34m,\u001b[0m \u001b[0;34m:\u001b[0m\u001b[0;34m]\u001b[0m\u001b[0;34m\u001b[0m\u001b[0;34m\u001b[0m\u001b[0m\n\u001b[1;32m     36\u001b[0m             \u001b[0mnew_st_vec\u001b[0m \u001b[0;34m=\u001b[0m \u001b[0mnew_st_vec\u001b[0m\u001b[0;34m.\u001b[0m\u001b[0mreshape\u001b[0m\u001b[0;34m(\u001b[0m\u001b[0;34m(\u001b[0m\u001b[0;36m2\u001b[0m \u001b[0;34m**\u001b[0m \u001b[0mself\u001b[0m\u001b[0;34m.\u001b[0m\u001b[0mdim\u001b[0m\u001b[0;34m)\u001b[0m\u001b[0;34m)\u001b[0m\u001b[0;34m\u001b[0m\u001b[0;34m\u001b[0m\u001b[0m\n",
      "\u001b[0;31mIndexError\u001b[0m: too many indices for array: array is 2-dimensional, but 3 were indexed"
     ]
    }
   ],
   "source": [
    "H.apply_2(qubit0.get_statevector())"
   ]
  },
  {
   "cell_type": "code",
   "execution_count": 77,
   "metadata": {},
   "outputs": [
    {
     "data": {
      "text/plain": [
       "array([[[ 0.        +0.j],\n",
       "        [ 0.        +0.j]],\n",
       "\n",
       "       [[ 0.70710678+0.j],\n",
       "        [-0.70710678+0.j]]])"
      ]
     },
     "execution_count": 77,
     "metadata": {},
     "output_type": "execute_result"
    }
   ],
   "source": [
    "st_vec = qubit00.get_statevector().reshape((2, 2, 2 ** 0)).astype(np.complex_)\n",
    "hadamard_gate() @ st_vec"
   ]
  },
  {
   "cell_type": "code",
   "execution_count": 57,
   "metadata": {},
   "outputs": [
    {
     "data": {
      "text/plain": [
       "array([[[1.+0.j],\n",
       "        [0.+0.j]]])"
      ]
     },
     "execution_count": 57,
     "metadata": {},
     "output_type": "execute_result"
    }
   ],
   "source": [
    "st_vec"
   ]
  },
  {
   "cell_type": "code",
   "execution_count": 58,
   "metadata": {},
   "outputs": [],
   "source": [
    "from quantum_svm.quantum.utils import hadamard_gate"
   ]
  },
  {
   "cell_type": "code",
   "execution_count": 60,
   "metadata": {},
   "outputs": [
    {
     "data": {
      "text/plain": [
       "(0.7071067811865475+0j)"
      ]
     },
     "execution_count": 60,
     "metadata": {},
     "output_type": "execute_result"
    }
   ],
   "source": [
    "hadamard_gate()[1,1]"
   ]
  },
  {
   "cell_type": "code",
   "execution_count": 81,
   "metadata": {},
   "outputs": [
    {
     "data": {
      "text/plain": [
       "array([[0.70710678+0.j, 0.70710678+0.j]])"
      ]
     },
     "execution_count": 81,
     "metadata": {},
     "output_type": "execute_result"
    }
   ],
   "source": []
  },
  {
   "cell_type": "code",
   "execution_count": null,
   "metadata": {},
   "outputs": [],
   "source": []
  }
 ],
 "metadata": {
  "kernelspec": {
   "display_name": "Python 3",
   "language": "python",
   "name": "python3"
  },
  "language_info": {
   "codemirror_mode": {
    "name": "ipython",
    "version": 3
   },
   "file_extension": ".py",
   "mimetype": "text/x-python",
   "name": "python",
   "nbconvert_exporter": "python",
   "pygments_lexer": "ipython3",
   "version": "3.7.4"
  }
 },
 "nbformat": 4,
 "nbformat_minor": 2
}
